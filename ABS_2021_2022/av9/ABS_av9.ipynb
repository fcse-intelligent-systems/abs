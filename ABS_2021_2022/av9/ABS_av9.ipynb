{
  "nbformat": 4,
  "nbformat_minor": 0,
  "metadata": {
    "colab": {
      "name": "ABS_av9.ipynb",
      "provenance": []
    },
    "kernelspec": {
      "name": "python3",
      "display_name": "Python 3"
    },
    "language_info": {
      "name": "python"
    }
  },
  "cells": [
    {
      "cell_type": "code",
      "execution_count": null,
      "metadata": {
        "id": "xekp_tRqZ1QL"
      },
      "outputs": [],
      "source": [
        "!pip install kaggle-environments"
      ]
    },
    {
      "cell_type": "code",
      "source": [
        "%matplotlib inline"
      ],
      "metadata": {
        "id": "5H02ZE8-blgG"
      },
      "execution_count": null,
      "outputs": []
    },
    {
      "cell_type": "code",
      "source": [
        "from kaggle_environments import make"
      ],
      "metadata": {
        "id": "aMopBRKVbLfu"
      },
      "execution_count": null,
      "outputs": []
    },
    {
      "cell_type": "code",
      "source": [
        "env = make('tictactoe')\n",
        "env.reset()\n",
        "env.render(mode='ipython')"
      ],
      "metadata": {
        "id": "MCx2qm1VbPb3"
      },
      "execution_count": null,
      "outputs": []
    },
    {
      "cell_type": "code",
      "source": [
        "print(*env.agents)"
      ],
      "metadata": {
        "id": "F4Oh2fM4bV9i"
      },
      "execution_count": null,
      "outputs": []
    },
    {
      "cell_type": "code",
      "source": [
        "env.run(['random', 'reaction'])\n",
        "env.render(mode='ipython')"
      ],
      "metadata": {
        "id": "jSjrTfhdc5wf"
      },
      "execution_count": null,
      "outputs": []
    },
    {
      "cell_type": "code",
      "source": [
        "env = make('connectx')\n",
        "env.reset()\n",
        "env.render(mode='ipython')"
      ],
      "metadata": {
        "id": "d2DZMTqmdlNp"
      },
      "execution_count": null,
      "outputs": []
    },
    {
      "cell_type": "code",
      "source": [
        "print(*env.agents)"
      ],
      "metadata": {
        "id": "7hsmdLMMdy1i"
      },
      "execution_count": null,
      "outputs": []
    },
    {
      "cell_type": "code",
      "source": [
        "env.run(['random', 'negamax'])\n",
        "env.render(mode='ipython')"
      ],
      "metadata": {
        "id": "mn4nWe9Qd2WE"
      },
      "execution_count": null,
      "outputs": []
    },
    {
      "cell_type": "code",
      "source": [
        "env = make('connectx', {'rows': 10, 'columns': 8, 'inarow': 5})\n",
        "env.reset()\n",
        "env.render(mode='ipython')"
      ],
      "metadata": {
        "id": "Y6moG2leef3T"
      },
      "execution_count": null,
      "outputs": []
    },
    {
      "cell_type": "code",
      "source": [
        "env.run(['random', 'negamax'])\n",
        "env.render(mode='ipython')"
      ],
      "metadata": {
        "id": "flpMGwKueuvH"
      },
      "execution_count": null,
      "outputs": []
    },
    {
      "cell_type": "code",
      "source": [
        "!pip install pettingzoo\n",
        "!pip install pygame"
      ],
      "metadata": {
        "id": "5HcZv04_e5nh"
      },
      "execution_count": null,
      "outputs": []
    },
    {
      "cell_type": "code",
      "source": [
        "from pettingzoo.classic import tictactoe_v3\n",
        "# https://www.pettingzoo.ml/classic/tictactoe"
      ],
      "metadata": {
        "id": "9w3WNlLcoBiE"
      },
      "execution_count": null,
      "outputs": []
    },
    {
      "cell_type": "code",
      "source": [
        "env = tictactoe_v3.env()\n",
        "env.reset()\n",
        "env.render()"
      ],
      "metadata": {
        "id": "sNfivGvloBbF"
      },
      "execution_count": null,
      "outputs": []
    },
    {
      "cell_type": "code",
      "source": [
        "env.agents"
      ],
      "metadata": {
        "id": "TlBeCu3UoRuT"
      },
      "execution_count": null,
      "outputs": []
    },
    {
      "cell_type": "code",
      "source": [
        "import random\n",
        "import numpy as np\n",
        "\n",
        "\n",
        "def policy(observation, agent):\n",
        "    action = random.choice(np.flatnonzero(observation['action_mask']))\n",
        "    return action"
      ],
      "metadata": {
        "id": "qrIpREp2ooZH"
      },
      "execution_count": null,
      "outputs": []
    },
    {
      "cell_type": "code",
      "source": [
        "env.reset()\n",
        "for agent in env.agent_iter():\n",
        "    observation, reward, done, info = env.last()\n",
        "    action = policy(observation, agent) if not done else None\n",
        "    env.step(action)\n",
        "    env.render() "
      ],
      "metadata": {
        "id": "cfJ-lrXMoltx"
      },
      "execution_count": null,
      "outputs": []
    },
    {
      "cell_type": "code",
      "source": [
        "from pettingzoo.classic import rps_v2\n",
        "# https://www.pettingzoo.ml/classic/rps"
      ],
      "metadata": {
        "id": "ikUA3EZ5hTEU"
      },
      "execution_count": null,
      "outputs": []
    },
    {
      "cell_type": "code",
      "source": [
        "env = rps_v2.env(num_actions=3, max_cycles=15)\n",
        "env.reset()\n",
        "env.render()"
      ],
      "metadata": {
        "id": "wrWq0jomhXsW"
      },
      "execution_count": null,
      "outputs": []
    },
    {
      "cell_type": "code",
      "source": [
        "env.agents"
      ],
      "metadata": {
        "id": "hK4QcU6kn2Bb"
      },
      "execution_count": null,
      "outputs": []
    },
    {
      "cell_type": "code",
      "source": [
        "print(env.observation_space('player_0'))\n",
        "print(env.observation_space('player_1'))"
      ],
      "metadata": {
        "id": "OdJ2PzuUkA-b"
      },
      "execution_count": null,
      "outputs": []
    },
    {
      "cell_type": "code",
      "source": [
        "print(env.action_space('player_0'))\n",
        "print(env.action_space('player_1'))"
      ],
      "metadata": {
        "id": "PGsW_TH-kqlK"
      },
      "execution_count": null,
      "outputs": []
    },
    {
      "cell_type": "code",
      "source": [
        "observation, reward, done, info = env.last()\n",
        "print(observation)\n",
        "print(reward)\n",
        "print(done)\n",
        "print(info)"
      ],
      "metadata": {
        "id": "rF_yVPQWlRWq"
      },
      "execution_count": null,
      "outputs": []
    },
    {
      "cell_type": "code",
      "source": [
        "# https://www.gymlibrary.ml/environments/third_party_environments/"
      ],
      "metadata": {
        "id": "VgmZaLSIpor-"
      },
      "execution_count": null,
      "outputs": []
    }
  ]
}